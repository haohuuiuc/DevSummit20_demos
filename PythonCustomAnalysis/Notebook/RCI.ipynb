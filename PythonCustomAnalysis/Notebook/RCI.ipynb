{
 "cells": [
  {
   "cell_type": "markdown",
   "metadata": {},
   "source": [
    "## Create a new raster with the checkerboard pattern\n",
    "\n",
    "In atmospheric modeling, a heterogenous surface raster represented by a checkerboard pattern can be used as an initial condition for idealized model simulations."
   ]
  },
  {
   "cell_type": "code",
   "execution_count": 8,
   "metadata": {},
   "outputs": [],
   "source": [
    "import json    \n",
    "from arcpy.sa import RasterInfo, Raster, RasterCellIterator\n",
    "from arcpy.ia import Render"
   ]
  },
  {
   "cell_type": "code",
   "execution_count": 17,
   "metadata": {},
   "outputs": [],
   "source": [
    "# Create an empty RasterInfo object  \n",
    "myRasterInfo = RasterInfo()  \n",
    "  \n",
    "# Load raster info from a Python dictionary  \n",
    "myRasterInfoData = {  \n",
    "  'bandCount': 1,  \n",
    "  'extent': {  \n",
    "    'xmin': -107.0,  \n",
    "    'ymin': 38.0,  \n",
    "    'xmax': -104.0,  \n",
    "    'ymax': 40.0,  \n",
    "    'spatialReference': {'wkid': 4326},  \n",
    "  },  \n",
    "  'pixelSizeX': 0.01,  \n",
    "  'pixelSizeY': 0.01,  \n",
    "  'pixelType': 'U8',  \n",
    "}  "
   ]
  },
  {
   "cell_type": "code",
   "execution_count": 18,
   "metadata": {},
   "outputs": [],
   "source": [
    "# Convert myRasterInfoData to a JSON string and load into myRasterInfo  \n",
    "myRasterInfo.fromJSONString(json.dumps(myRasterInfoData))  \n",
    "  \n",
    "# Create a new Raster object based on myRasterInfo  \n",
    "myRaster = Raster(myRasterInfo)  "
   ]
  },
  {
   "cell_type": "code",
   "execution_count": 19,
   "metadata": {},
   "outputs": [],
   "source": [
    "for (r, c) in myRaster:   \n",
    "    # Checkerboard with 10 pixels width  \n",
    "    if r % 20 < 10 and c % 20 < 10 or r % 20 >= 10 and c % 20 >= 10:  \n",
    "        myRaster[r, c] = 1  \n",
    "    else:  \n",
    "        myRaster[r, c] = 0\n",
    "myRaster.save(r'C:\\DevSummit20\\PythonCustomAnalysis\\Output\\checkerboard.tif')  "
   ]
  },
  {
   "cell_type": "code",
   "execution_count": 20,
   "metadata": {},
   "outputs": [
    {
     "data": {
      "image/png": "[encoded data removed]",
      "text/plain": [
       "C:\\Users\\hao9717\\AppData\\Local\\Temp\\1\\ArcGISProTemp15952\\xbd01b6b7_c93d_40e5_90c6_4def3fba7886y0.afr"
      ]
     },
     "execution_count": 20,
     "metadata": {},
     "output_type": "execute_result"
    }
   ],
   "source": [
    "Render(myRaster, colormap=\"Black to White\")"
   ]
  },
  {
   "cell_type": "markdown",
   "metadata": {},
   "source": [
    "## Count the number of neighboring cells that have a different value from the center cell\n",
    "\n",
    "Stathakis & Tsilimigkas (2015) proposed several metrics to calculate the compactness of cities using land use adjacency information. To derive the compactness metric, one of the pre-processing steps is to iterate through the land use data and count the number of neighboring cells that have a value different to the center cell. This focal operation process is illustrated in the following figure"
   ]
  },
  {
   "cell_type": "markdown",
   "metadata": {},
   "source": [
    "![image_file](https://www.esri.com/arcgis-blog/wp-content/uploads/2020/01/f2-e1578962025582.png)"
   ]
  },
  {
   "cell_type": "code",
   "execution_count": 5,
   "metadata": {},
   "outputs": [],
   "source": [
    "from math import isnan     \n",
    "\n",
    "# Read a landuse dataset\n",
    "landu = Raster(r\"C:\\DevSummit20\\PythonCustomAnalysis\\Input\\landu.tif\")"
   ]
  },
  {
   "cell_type": "code",
   "execution_count": 6,
   "metadata": {},
   "outputs": [],
   "source": [
    "# Create a temporary output raster based on the raster info of landuse    \n",
    "output = Raster(landu.getRasterInfo())"
   ]
  },
  {
   "cell_type": "code",
   "execution_count": 9,
   "metadata": {},
   "outputs": [],
   "source": [
    "with RasterCellIterator({'rasters':[landu, output]}) as rci:    \n",
    "    for i,j in rci:    \n",
    "        count = 0     \n",
    "        # Assign NoData value to the output if the input is NoData    \n",
    "        if isnan(landu[i,j]):    \n",
    "            output[i,j] = math.nan    \n",
    "            continue    \n",
    "        # Create a moving window    \n",
    "        for x in [-1,0,1]:    \n",
    "            for y in [-1,0,1]:    \n",
    "                # Count the number of adjacent cells with a different value      \n",
    "                if not isnan(landu[i+x,j+y]) and landu[i+x,j+y] != landu[i,j]:    \n",
    "                    count+=1    \n",
    "        output[i,j] = count     "
   ]
  },
  {
   "cell_type": "code",
   "execution_count": 10,
   "metadata": {},
   "outputs": [],
   "source": [
    "output.save(r\"C:\\DevSummit20\\PythonCustomAnalysis\\Output\\landu_diff_count.tif\") "
   ]
  }
 ],
 "metadata": {
  "kernelspec": {
   "display_name": "ArcGISPro",
   "language": "Python",
   "name": "python3"
  },
  "language_info": {
   "file_extension": ".py",
   "name": "python",
   "version": "3"
  }
 },
 "nbformat": 4,
 "nbformat_minor": 1
}
